{
 "cells": [
  {
   "cell_type": "code",
   "execution_count": 2,
   "metadata": {},
   "outputs": [
    {
     "data": {
      "text/plain": [
       "'3.6.3 |Anaconda custom (64-bit)| (default, Oct 15 2017, 03:27:45) [MSC v.1900 64 bit (AMD64)]'"
      ]
     },
     "execution_count": 2,
     "metadata": {},
     "output_type": "execute_result"
    }
   ],
   "source": [
    "import sys\n",
    "sys.version"
   ]
  },
  {
   "cell_type": "code",
   "execution_count": 3,
   "metadata": {
    "collapsed": true
   },
   "outputs": [],
   "source": [
    "# source: https://mxnet.apache.org/tutorials/python/mnist.html"
   ]
  },
  {
   "cell_type": "markdown",
   "metadata": {},
   "source": [
    "# Handwritten Digit Recognition\n",
    "\n",
    "In this tutorial, we'll give you a step by step walk-through of how to build a hand-written digit classifier using the [MNIST](https://en.wikipedia.org/wiki/MNIST_database) dataset. For someone new to deep learning, this exercise is arguably the \"Hello World\" equivalent.\n",
    "\n",
    "MNIST is a widely used dataset for the hand-written digit classification task. It consists of 70,000 labeled 28x28 pixel grayscale images of hand-written digits. The dataset is split into 60,000 training images and 10,000 test images. There are 10 classes (one for each of the 10 digits). The task at hand is to train a model using the 60,000 training images and subsequently test its classification accuracy on the 10,000 test images.\n",
    "\n",
    "![png](https://raw.githubusercontent.com/dmlc/web-data/master/mxnet/example/mnist.png)\n",
    "\n",
    "**Figure 1:** Sample images from the MNIST dataset.\n",
    "\n",
    "## Prerequisites\n",
    "To complete this tutorial, we need:  \n",
    "\n",
    "- MXNet version 0.10 or later. See the installation instructions for your operating system in [Setup and Installation](http://mxnet.io/get_started/install.html).\n",
    "\n",
    "- [Python Requests](http://docs.python-requests.org/en/master/) and [Jupyter Notebook](http://jupyter.org/index.html).\n",
    "\n",
    "```\n",
    "$ pip install requests jupyter\n",
    "```\n",
    "\n",
    "## Loading Data\n",
    "\n",
    "Before we define the model, let's first fetch the [MNIST](http://yann.lecun.com/exdb/mnist/) dataset.\n",
    "\n",
    "The following source code downloads and loads the images and the corresponding labels into memory."
   ]
  },
  {
   "cell_type": "code",
   "execution_count": 4,
   "metadata": {},
   "outputs": [
    {
     "name": "stderr",
     "output_type": "stream",
     "text": [
      "C:\\Users\\monic\\Anaconda3\\lib\\site-packages\\mxnet\\test_utils.py:1430: DeprecationWarning: The binary mode of fromstring is deprecated, as it behaves surprisingly on unicode inputs. Use frombuffer instead\n",
      "  label = np.fromstring(flbl.read(), dtype=np.int8)\n",
      "C:\\Users\\monic\\Anaconda3\\lib\\site-packages\\mxnet\\test_utils.py:1433: DeprecationWarning: The binary mode of fromstring is deprecated, as it behaves surprisingly on unicode inputs. Use frombuffer instead\n",
      "  image = np.fromstring(fimg.read(), dtype=np.uint8).reshape(len(label), rows, cols)\n"
     ]
    }
   ],
   "source": [
    "import mxnet as mx\n",
    "import os\n",
    "\n",
    "os.chdir('../data/mnist/')\n",
    "mnist = mx.test_utils.get_mnist()\n",
    "os.chdir('../../classification_mnist')\n"
   ]
  },
  {
   "cell_type": "markdown",
   "metadata": {},
   "source": [
    "After running the above source code, the entire MNIST dataset should be fully loaded into memory. Note that for large datasets it is not feasible to pre-load the entire dataset first like we did here. What is needed is a mechanism by which we can quickly and efficiently stream data directly from the source. MXNet Data iterators come to the rescue here by providing exactly that. Data iterator is the mechanism by which we feed input data into an MXNet training algorithm and they are very simple to initialize and use and are optimized for speed. During training, we typically process training samples in small batches and over the entire training lifetime will end up processing each training example multiple times. In this tutorial, we'll configure the data iterator to feed examples in batches of 100. Keep in mind that each example is a 28x28 grayscale image and the corresponding label.\n",
    "\n",
    "Image batches are commonly represented by a 4-D array with shape `(batch_size, num_channels, width, height)`. For the MNIST dataset, since the images are grayscale, there is only one color channel. Also, the images are 28x28 pixels, and so each image has width and height equal to 28. Therefore, the shape of input is `(batch_size, 1, 28, 28)`. Another important consideration is the order of input samples. When feeding training examples, it is critical that we don't feed samples with the same label in succession. Doing so can slow down training.\n",
    "Data iterators take care of this by randomly shuffling the inputs. Note that we only need to shuffle the training data. The order does not matter for test data.\n",
    "\n",
    "The following source code initializes the data iterators for the MNIST dataset. Note that we initialize two iterators: one for train data and one for test data."
   ]
  },
  {
   "cell_type": "code",
   "execution_count": 5,
   "metadata": {
    "collapsed": true
   },
   "outputs": [],
   "source": [
    "batch_size = 128\n",
    "train_iter = mx.io.NDArrayIter(mnist['train_data'], mnist['train_label'], batch_size, shuffle=True)\n",
    "val_iter = mx.io.NDArrayIter(mnist['test_data'], mnist['test_label'], batch_size)"
   ]
  },
  {
   "cell_type": "markdown",
   "metadata": {},
   "source": [
    "## Training\n",
    "We will cover a couple of approaches for performing the hand written digit recognition task. The first approach makes use of a traditional deep neural network architecture called Multilayer Percepton (MLP). We'll discuss its drawbacks and use that as a motivation to introduce a second more advanced approach called Convolution Neural Network (CNN) that has proven to work very well for image classification tasks.\n",
    "\n",
    "### Multilayer Perceptron\n",
    "\n",
    "The first approach makes use of a [Multilayer Perceptron](https://en.wikipedia.org/wiki/Multilayer_perceptron) to solve this problem. We'll define the MLP using MXNet's symbolic interface. We begin by creating a place holder variable for the input data. When working with an MLP, we need to flatten our 28x28 images into a flat 1-D structure of 784 (28 * 28) raw pixel values. The order of pixel values in the flattened vector does not matter as long as we are being consistent about how we do this across all images."
   ]
  },
  {
   "cell_type": "code",
   "execution_count": 6,
   "metadata": {
    "collapsed": true
   },
   "outputs": [],
   "source": [
    "data = mx.sym.var('data')\n",
    "# Flatten the data from 4-D shape into 2-D (batch_size, num_channel*width*height)\n",
    "data = mx.sym.flatten(data=data)"
   ]
  },
  {
   "cell_type": "markdown",
   "metadata": {},
   "source": [
    "One might wonder if we are discarding valuable information by flattening. That is indeed true and we'll cover this more when we talk about convolutional neural networks where we preserve the input shape. For now, we'll go ahead and work with flattened images.\n",
    "\n",
    "MLPs contains several fully connected layers. A fully connected layer or FC layer for short, is one where each neuron in the layer is connected to every neuron in its preceding layer. From a linear algebra perspective, an FC layer applies an [affine transform](https://en.wikipedia.org/wiki/Affine_transformation) to the *n x m* input matrix *X* and outputs a matrix *Y* of size *n x k*, where *k* is the number of neurons in the FC layer. *k* is also referred to as the hidden size. The output *Y* is computed according to the equation *Y = W X + b*. The FC layer has two learnable parameters, the *m x k* weight matrix *W* and the *m x 1* bias vector *b*.\n",
    "\n",
    "\n",
    "In an MLP, the outputs of most FC layers are fed into an activation function, which applies an element-wise non-linearity. This step is critical and it gives neural networks the ability to classify inputs that are not linearly separable. Common choices for activation functions are sigmoid, tanh, and [rectified linear unit](https://en.wikipedia.org/wiki/Rectifier_%28neural_networks%29) (ReLU). In this example, we'll use the ReLU activation function which has several desirable properties and is typically considered a default choice.\n",
    "\n",
    "The following code declares two fully connected layers with 128 and 64 neurons each. Furthermore, these FC layers are sandwiched between ReLU activation layers each one responsible for performing an element-wise ReLU transformation on the FC layer output."
   ]
  },
  {
   "cell_type": "code",
   "execution_count": 7,
   "metadata": {
    "collapsed": true
   },
   "outputs": [],
   "source": [
    "# The first fully-connected layer and the corresponding activation function\n",
    "fc1  = mx.sym.FullyConnected(data=data, num_hidden=128)\n",
    "act1 = mx.sym.Activation(data=fc1, act_type=\"relu\")\n",
    "\n",
    "# The second fully-connected layer and the corresponding activation function\n",
    "fc2  = mx.sym.FullyConnected(data=act1, num_hidden = 64)\n",
    "act2 = mx.sym.Activation(data=fc2, act_type=\"relu\")"
   ]
  },
  {
   "cell_type": "markdown",
   "metadata": {},
   "source": [
    "The last fully connected layer often has its hidden size equal to the number of output classes in the dataset. The activation function for this layer will be the softmax function. The Softmax layer maps its input to a probability score for each class of output. During the training stage, a loss function computes the [cross entropy](https://en.wikipedia.org/wiki/Cross_entropy) between the probability distribution (softmax output) predicted by the network and the true probability distribution given by the label.\n",
    "\n",
    "The following source code declares the final fully connected layer of size 10. 10 incidentally is the total number of digits. The output from this layer is fed into a `SoftMaxOutput` layer that performs softmax and cross-entropy loss computation in one go. Note that loss computation only happens during training."
   ]
  },
  {
   "cell_type": "code",
   "execution_count": 8,
   "metadata": {
    "collapsed": true
   },
   "outputs": [],
   "source": [
    "# MNIST has 10 classes\n",
    "fc3  = mx.sym.FullyConnected(data=act2, num_hidden=10)\n",
    "# Softmax with cross entropy loss\n",
    "mlp  = mx.sym.SoftmaxOutput(data=fc3, name='softmax')"
   ]
  },
  {
   "cell_type": "markdown",
   "metadata": {},
   "source": [
    "![png](https://raw.githubusercontent.com/dmlc/web-data/master/mxnet/image/mlp_mnist.png)\n",
    "\n",
    "**Figure 2:** MLP network architecture for MNIST.\n",
    "\n",
    "Now that both the data iterator and neural network are defined, we can commence training. Here we'll employ the `module` feature in MXNet which provides a high-level abstraction for running training and inference on predefined networks. The module API allows the user to specify appropriate parameters that control how the training proceeds.\n",
    "\n",
    "The following source code initializes a module to train the MLP network we defined above. For our training, we will make use of the stochastic gradient descent (SGD) optimizer. In particular, we'll be using mini-batch SGD. Standard SGD processes train data one example at a time. In practice, this is very slow and one can speed up the process by processing examples in small batches. In this case, our batch size will be 100, which is a reasonable choice. Another parameter we select here is the learning rate, which controls the step size the optimizer takes in search of a solution. We'll pick a learning rate of 0.1, again a reasonable choice. Settings such as batch size and learning rate are what are usually referred to as hyper-parameters. What values we give them can have a great impact on training performance. For the purpose of this tutorial, we'll start with some reasonable and safe values. In other tutorials, we'll discuss how one might go about finding a combination of hyper-parameters for optimal model performance.\n",
    "\n",
    "Typically, one runs the training until convergence, which means that we have learned a good set of model parameters (weights + biases) from the train data. For the purpose of this tutorial, we'll run training for 10 epochs and stop. An epoch is one full pass over the entire train data."
   ]
  },
  {
   "cell_type": "code",
   "execution_count": 9,
   "metadata": {},
   "outputs": [
    {
     "name": "stderr",
     "output_type": "stream",
     "text": [
      "INFO:root:Epoch[0] Batch [100]\tSpeed: 59654.18 samples/sec\taccuracy=0.111154\n",
      "INFO:root:Epoch[0] Batch [200]\tSpeed: 56486.62 samples/sec\taccuracy=0.113516\n",
      "INFO:root:Epoch[0] Batch [300]\tSpeed: 58292.11 samples/sec\taccuracy=0.111250\n",
      "INFO:root:Epoch[0] Batch [400]\tSpeed: 58291.98 samples/sec\taccuracy=0.114609\n",
      "INFO:root:Epoch[0] Train-accuracy=0.108915\n",
      "INFO:root:Epoch[0] Time cost=1.047\n",
      "INFO:root:Epoch[0] Validation-accuracy=0.113726\n",
      "INFO:root:Epoch[1] Batch [100]\tSpeed: 58027.43 samples/sec\taccuracy=0.193611\n",
      "INFO:root:Epoch[1] Batch [200]\tSpeed: 57246.51 samples/sec\taccuracy=0.399687\n",
      "INFO:root:Epoch[1] Batch [300]\tSpeed: 58291.92 samples/sec\taccuracy=0.606953\n",
      "INFO:root:Epoch[1] Batch [400]\tSpeed: 52319.56 samples/sec\taccuracy=0.766250\n",
      "INFO:root:Epoch[1] Train-accuracy=0.797564\n",
      "INFO:root:Epoch[1] Time cost=1.069\n",
      "INFO:root:Epoch[1] Validation-accuracy=0.829509\n",
      "INFO:root:Epoch[2] Batch [100]\tSpeed: 56737.89 samples/sec\taccuracy=0.820467\n",
      "INFO:root:Epoch[2] Batch [200]\tSpeed: 58027.05 samples/sec\taccuracy=0.832031\n",
      "INFO:root:Epoch[2] Batch [300]\tSpeed: 58027.11 samples/sec\taccuracy=0.849922\n",
      "INFO:root:Epoch[2] Batch [400]\tSpeed: 57246.51 samples/sec\taccuracy=0.863516\n",
      "INFO:root:Epoch[2] Train-accuracy=0.874770\n",
      "INFO:root:Epoch[2] Time cost=1.053\n",
      "INFO:root:Epoch[2] Validation-accuracy=0.884098\n",
      "INFO:root:Epoch[3] Batch [100]\tSpeed: 57504.65 samples/sec\taccuracy=0.886293\n",
      "INFO:root:Epoch[3] Batch [200]\tSpeed: 55746.48 samples/sec\taccuracy=0.898516\n",
      "INFO:root:Epoch[3] Batch [300]\tSpeed: 58027.24 samples/sec\taccuracy=0.908047\n",
      "INFO:root:Epoch[3] Batch [400]\tSpeed: 57764.64 samples/sec\taccuracy=0.911016\n",
      "INFO:root:Epoch[3] Train-accuracy=0.916820\n",
      "INFO:root:Epoch[3] Time cost=1.059\n",
      "INFO:root:Epoch[3] Validation-accuracy=0.918513\n",
      "INFO:root:Epoch[4] Batch [100]\tSpeed: 57764.83 samples/sec\taccuracy=0.920019\n",
      "INFO:root:Epoch[4] Batch [200]\tSpeed: 57504.28 samples/sec\taccuracy=0.928047\n",
      "INFO:root:Epoch[4] Batch [300]\tSpeed: 57504.16 samples/sec\taccuracy=0.934609\n",
      "INFO:root:Epoch[4] Batch [400]\tSpeed: 56486.51 samples/sec\taccuracy=0.933359\n",
      "INFO:root:Epoch[4] Train-accuracy=0.935317\n",
      "INFO:root:Epoch[4] Time cost=1.055\n",
      "INFO:root:Epoch[4] Validation-accuracy=0.936907\n",
      "INFO:root:Epoch[5] Batch [100]\tSpeed: 56237.93 samples/sec\taccuracy=0.938892\n",
      "INFO:root:Epoch[5] Batch [200]\tSpeed: 58027.18 samples/sec\taccuracy=0.944297\n",
      "INFO:root:Epoch[5] Batch [300]\tSpeed: 56990.85 samples/sec\taccuracy=0.947812\n",
      "INFO:root:Epoch[5] Batch [400]\tSpeed: 57246.63 samples/sec\taccuracy=0.946328\n",
      "INFO:root:Epoch[5] Train-accuracy=0.947151\n",
      "INFO:root:Epoch[5] Time cost=1.057\n",
      "INFO:root:Epoch[5] Validation-accuracy=0.948477\n",
      "INFO:root:Epoch[6] Batch [100]\tSpeed: 57504.41 samples/sec\taccuracy=0.950418\n",
      "INFO:root:Epoch[6] Batch [200]\tSpeed: 56738.43 samples/sec\taccuracy=0.955000\n",
      "INFO:root:Epoch[6] Batch [300]\tSpeed: 57504.53 samples/sec\taccuracy=0.956172\n",
      "INFO:root:Epoch[6] Batch [400]\tSpeed: 57246.51 samples/sec\taccuracy=0.956406\n",
      "INFO:root:Epoch[6] Train-accuracy=0.955538\n",
      "INFO:root:Epoch[6] Time cost=1.057\n",
      "INFO:root:Epoch[6] Validation-accuracy=0.954411\n",
      "INFO:root:Epoch[7] Batch [100]\tSpeed: 56737.83 samples/sec\taccuracy=0.958230\n",
      "INFO:root:Epoch[7] Batch [200]\tSpeed: 56237.93 samples/sec\taccuracy=0.960859\n",
      "INFO:root:Epoch[7] Batch [300]\tSpeed: 57246.63 samples/sec\taccuracy=0.961953\n",
      "INFO:root:Epoch[7] Batch [400]\tSpeed: 56990.79 samples/sec\taccuracy=0.962656\n",
      "INFO:root:Epoch[7] Train-accuracy=0.961512\n",
      "INFO:root:Epoch[7] Time cost=1.066\n",
      "INFO:root:Epoch[7] Validation-accuracy=0.958960\n",
      "INFO:root:Epoch[8] Batch [100]\tSpeed: 56237.75 samples/sec\taccuracy=0.964496\n",
      "INFO:root:Epoch[8] Batch [200]\tSpeed: 57504.47 samples/sec\taccuracy=0.967031\n",
      "INFO:root:Epoch[8] Batch [300]\tSpeed: 56990.85 samples/sec\taccuracy=0.967187\n",
      "INFO:root:Epoch[8] Batch [400]\tSpeed: 56991.03 samples/sec\taccuracy=0.967969\n",
      "INFO:root:Epoch[8] Train-accuracy=0.966108\n",
      "INFO:root:Epoch[8] Time cost=1.064\n",
      "INFO:root:Epoch[8] Validation-accuracy=0.961828\n",
      "INFO:root:Epoch[9] Batch [100]\tSpeed: 56991.03 samples/sec\taccuracy=0.969059\n",
      "INFO:root:Epoch[9] Batch [200]\tSpeed: 56990.97 samples/sec\taccuracy=0.971875\n",
      "INFO:root:Epoch[9] Batch [300]\tSpeed: 56737.53 samples/sec\taccuracy=0.969844\n",
      "INFO:root:Epoch[9] Batch [400]\tSpeed: 56737.59 samples/sec\taccuracy=0.970938\n",
      "INFO:root:Epoch[9] Train-accuracy=0.970703\n",
      "INFO:root:Epoch[9] Time cost=1.064\n",
      "INFO:root:Epoch[9] Validation-accuracy=0.963212\n"
     ]
    }
   ],
   "source": [
    "import logging\n",
    "logging.getLogger().setLevel(logging.DEBUG)  # logging to stdout\n",
    "# create a trainable module on CPU\n",
    "mlp_model = mx.mod.Module(symbol=mlp, context=mx.cpu())\n",
    "mlp_model.fit(train_iter,  # train data\n",
    "              eval_data=val_iter,  # validation data\n",
    "              optimizer='sgd',  # use SGD to train\n",
    "              optimizer_params={'learning_rate':0.1},  # use fixed learning rate\n",
    "              eval_metric='acc',  # report accuracy during training\n",
    "              batch_end_callback = mx.callback.Speedometer(batch_size, 100), # output progress for each 100 data batches\n",
    "              num_epoch=10)  # train for at most 10 dataset passes"
   ]
  },
  {
   "cell_type": "code",
   "execution_count": null,
   "metadata": {
    "collapsed": true
   },
   "outputs": [],
   "source": []
  },
  {
   "cell_type": "markdown",
   "metadata": {},
   "source": [
    "### Prediction\n",
    "\n",
    "After the above training completes, we can evaluate the trained model by running predictions on test data. The following source code computes the prediction probability scores for each test image. *prob[i][j]* is the probability that the *i*-th test image contains the *j*-th output class."
   ]
  },
  {
   "cell_type": "code",
   "execution_count": 10,
   "metadata": {
    "collapsed": true
   },
   "outputs": [],
   "source": [
    "test_iter = mx.io.NDArrayIter(mnist['test_data'], None, batch_size)\n",
    "prob = mlp_model.predict(test_iter)\n",
    "assert prob.shape == (10000, 10)"
   ]
  },
  {
   "cell_type": "markdown",
   "metadata": {},
   "source": [
    "Since the dataset also has labels for all test images, we can compute the accuracy metric as follows:"
   ]
  },
  {
   "cell_type": "code",
   "execution_count": 11,
   "metadata": {},
   "outputs": [
    {
     "name": "stdout",
     "output_type": "stream",
     "text": [
      "EvalMetric: {'accuracy': 0.9632120253164557}\n"
     ]
    }
   ],
   "source": [
    "test_iter = mx.io.NDArrayIter(mnist['test_data'], mnist['test_label'], batch_size)\n",
    "# predict accuracy of mlp\n",
    "acc = mx.metric.Accuracy()\n",
    "mlp_model.score(test_iter, acc)\n",
    "print(acc)\n",
    "assert acc.get()[1] > 0.96"
   ]
  },
  {
   "cell_type": "markdown",
   "metadata": {},
   "source": [
    "If everything went well, we should see an accuracy value that is around 0.96, which means that we are able to accurately predict the digit in 96% of test images. This is a pretty good result. But as we will see in the next part of this tutorial, we can do a lot better than that.\n",
    "\n",
    "### Convolutional Neural Network\n",
    "\n",
    "Earlier, we briefly touched on a drawback of MLP when we said we need to discard the input image's original shape and flatten it as a vector before we can feed it as input to the MLP's first fully connected layer. Turns out this is an important issue because we don't take advantage of the fact that pixels in the image have natural spatial correlation along the horizontal and vertical axes. A convolutional neural network (CNN) aims to address this problem by using a more structured weight representation. Instead of flattening the image and doing a simple matrix-matrix multiplication, it employs one or more convolutional layers that each performs a 2-D convolution on the input image.\n",
    "\n",
    "A single convolution layer consists of one or more filters that each play the role of a feature detector. During training, a CNN learns appropriate representations (parameters) for these filters. Similar to MLP, the output from the convolutional layer is transformed by applying a non-linearity. Besides the convolutional layer, another key aspect of a CNN is the pooling layer. A pooling layer serves to make the CNN translation invariant: a digit remains the same even when it is shifted left/right/up/down by a few pixels. A pooling layer reduces a *n x m* patch into a single value to make the network less sensitive to the spatial location. Pooling layer is always included after each conv (+ activation) layer in the CNN.\n",
    "\n",
    "The following source code defines a convolutional neural network architecture called LeNet. LeNet is a popular network known to work well on digit classification tasks. We will use a slightly different version from the original LeNet implementation, replacing the sigmoid activations with tanh activations for the neurons"
   ]
  },
  {
   "cell_type": "code",
   "execution_count": 12,
   "metadata": {
    "collapsed": true
   },
   "outputs": [],
   "source": [
    "data = mx.sym.var('data')\n",
    "# first conv layer\n",
    "conv1 = mx.sym.Convolution(data=data, kernel=(5,5), num_filter=20)\n",
    "tanh1 = mx.sym.Activation(data=conv1, act_type=\"tanh\")\n",
    "pool1 = mx.sym.Pooling(data=tanh1, pool_type=\"max\", kernel=(2,2), stride=(2,2))\n",
    "# second conv layer\n",
    "conv2 = mx.sym.Convolution(data=pool1, kernel=(5,5), num_filter=50)\n",
    "tanh2 = mx.sym.Activation(data=conv2, act_type=\"tanh\")\n",
    "pool2 = mx.sym.Pooling(data=tanh2, pool_type=\"max\", kernel=(2,2), stride=(2,2))\n",
    "# first fullc layer\n",
    "flatten = mx.sym.flatten(data=pool2)\n",
    "fc1 = mx.symbol.FullyConnected(data=flatten, num_hidden=500)\n",
    "tanh3 = mx.sym.Activation(data=fc1, act_type=\"tanh\")\n",
    "# second fullc\n",
    "fc2 = mx.sym.FullyConnected(data=tanh3, num_hidden=10)\n",
    "# softmax loss\n",
    "lenet = mx.sym.SoftmaxOutput(data=fc2, name='softmax')"
   ]
  },
  {
   "cell_type": "code",
   "execution_count": 13,
   "metadata": {},
   "outputs": [],
   "source": [
    "# adapted to compare with the other frameworks\n",
    "# network parameters\n",
    "kernel_size = (5,5)\n",
    "pool_size=(2,2)\n",
    "filters_layer1 = 32\n",
    "filters_layer2 = 64\n",
    "\n",
    "activation='relu'\n",
    "dropout = 0.5\n",
    "units_dense = 1024\n",
    "\n",
    "# train parameters\n",
    "batch_size = 128\n",
    "epochs = 10\n",
    "#loss=keras.losses.categorical_crossentropy\n",
    "#optimizer=adam()\n",
    "#metrics=['accuracy']\n",
    "\n",
    "num_outputs = 10\n",
    "\n",
    "data = mx.sym.var('data')\n",
    "# first conv layer\n",
    "conv1 = mx.sym.Convolution(data=data, kernel=kernel_size, num_filter=filters_layer1)\n",
    "relu1 = mx.sym.Activation(data=conv1, act_type=activation)\n",
    "pool1 = mx.sym.Pooling(data=relu1, pool_type=\"max\", kernel=pool_size)#, stride=(2,2))\n",
    "conv2 = mx.sym.Convolution(data=pool1, kernel=kernel_size, num_filter=filters_layer2)\n",
    "relu2 = mx.sym.Activation(data=conv2, act_type=activation)\n",
    "pool2 = mx.sym.Pooling(data=relu2, pool_type=\"max\", kernel=pool_size)#, stride=(2,2))\n",
    "flatten = mx.sym.flatten(data=pool2)\n",
    "fc1 = mx.symbol.FullyConnected(data=flatten, num_hidden=units_dense)\n",
    "relu3 = mx.sym.Activation(data=fc1, act_type=activation)\n",
    "# second fullc\n",
    "dropout = mx.sym.Dropout(data=relu3, p=dropout)\n",
    "fc2 = mx.sym.FullyConnected(data=dropout, num_hidden=num_outputs)\n",
    "lenet = mx.sym.SoftmaxOutput(data=fc2, name='softmax')"
   ]
  },
  {
   "cell_type": "markdown",
   "metadata": {},
   "source": [
    "![png](https://raw.githubusercontent.com/dmlc/web-data/master/mxnet/image/conv_mnist.png)\n",
    "\n",
    "**Figure 3:** First conv + pooling layer in LeNet.\n",
    "\n",
    "Now we train LeNet with the same hyper-parameters as before. Note that, if a GPU is available, we recommend using it. This greatly speeds up computation given that LeNet is more complex and compute-intensive than the previous multilayer perceptron. To do so, we only need to change `mx.cpu()` to `mx.gpu()` and MXNet takes care of the rest. Just like before, we'll stop training after 10 epochs."
   ]
  },
  {
   "cell_type": "code",
   "execution_count": 14,
   "metadata": {},
   "outputs": [
    {
     "ename": "RuntimeError",
     "evalue": "simple_bind error. Arguments:\ndata: (128, 1, 28, 28)\nsoftmax_label: (128,)\n[10:59:43] C:\\projects\\mxnet-distro-win\\mxnet-build\\src\\storage\\storage.cc:118: Compile with USE_CUDA=1 to enable GPU usage",
     "output_type": "error",
     "traceback": [
      "\u001b[1;31m---------------------------------------------------------------------------\u001b[0m",
      "\u001b[1;31mMXNetError\u001b[0m                                Traceback (most recent call last)",
      "\u001b[1;32m~\\Anaconda3\\lib\\site-packages\\mxnet\\symbol\\symbol.py\u001b[0m in \u001b[0;36msimple_bind\u001b[1;34m(self, ctx, grad_req, type_dict, stype_dict, group2ctx, shared_arg_names, shared_exec, shared_buffer, **kwargs)\u001b[0m\n\u001b[0;32m   1487\u001b[0m                                                  \u001b[0mshared_exec_handle\u001b[0m\u001b[1;33m,\u001b[0m\u001b[1;33m\u001b[0m\u001b[0m\n\u001b[1;32m-> 1488\u001b[1;33m                                                  ctypes.byref(exe_handle)))\n\u001b[0m\u001b[0;32m   1489\u001b[0m         \u001b[1;32mexcept\u001b[0m \u001b[0mMXNetError\u001b[0m \u001b[1;32mas\u001b[0m \u001b[0me\u001b[0m\u001b[1;33m:\u001b[0m\u001b[1;33m\u001b[0m\u001b[0m\n",
      "\u001b[1;32m~\\Anaconda3\\lib\\site-packages\\mxnet\\base.py\u001b[0m in \u001b[0;36mcheck_call\u001b[1;34m(ret)\u001b[0m\n\u001b[0;32m    145\u001b[0m     \u001b[1;32mif\u001b[0m \u001b[0mret\u001b[0m \u001b[1;33m!=\u001b[0m \u001b[1;36m0\u001b[0m\u001b[1;33m:\u001b[0m\u001b[1;33m\u001b[0m\u001b[0m\n\u001b[1;32m--> 146\u001b[1;33m         \u001b[1;32mraise\u001b[0m \u001b[0mMXNetError\u001b[0m\u001b[1;33m(\u001b[0m\u001b[0mpy_str\u001b[0m\u001b[1;33m(\u001b[0m\u001b[0m_LIB\u001b[0m\u001b[1;33m.\u001b[0m\u001b[0mMXGetLastError\u001b[0m\u001b[1;33m(\u001b[0m\u001b[1;33m)\u001b[0m\u001b[1;33m)\u001b[0m\u001b[1;33m)\u001b[0m\u001b[1;33m\u001b[0m\u001b[0m\n\u001b[0m\u001b[0;32m    147\u001b[0m \u001b[1;33m\u001b[0m\u001b[0m\n",
      "\u001b[1;31mMXNetError\u001b[0m: [10:59:43] C:\\projects\\mxnet-distro-win\\mxnet-build\\src\\storage\\storage.cc:118: Compile with USE_CUDA=1 to enable GPU usage",
      "\nDuring handling of the above exception, another exception occurred:\n",
      "\u001b[1;31mRuntimeError\u001b[0m                              Traceback (most recent call last)",
      "\u001b[1;32m<ipython-input-14-2314582b5e89>\u001b[0m in \u001b[0;36m<module>\u001b[1;34m()\u001b[0m\n\u001b[0;32m     10\u001b[0m                 \u001b[0meval_metric\u001b[0m\u001b[1;33m=\u001b[0m\u001b[1;34m'acc'\u001b[0m\u001b[1;33m,\u001b[0m\u001b[1;33m\u001b[0m\u001b[0m\n\u001b[0;32m     11\u001b[0m                 \u001b[0mbatch_end_callback\u001b[0m \u001b[1;33m=\u001b[0m \u001b[0mmx\u001b[0m\u001b[1;33m.\u001b[0m\u001b[0mcallback\u001b[0m\u001b[1;33m.\u001b[0m\u001b[0mSpeedometer\u001b[0m\u001b[1;33m(\u001b[0m\u001b[0mbatch_size\u001b[0m\u001b[1;33m,\u001b[0m \u001b[1;36m100\u001b[0m\u001b[1;33m)\u001b[0m\u001b[1;33m,\u001b[0m\u001b[1;33m\u001b[0m\u001b[0m\n\u001b[1;32m---> 12\u001b[1;33m                 num_epoch=1)\n\u001b[0m\u001b[0;32m     13\u001b[0m \u001b[0mprint\u001b[0m\u001b[1;33m(\u001b[0m\u001b[1;34m'sec per epoch:'\u001b[0m\u001b[1;33m)\u001b[0m\u001b[1;33m\u001b[0m\u001b[0m\n\u001b[0;32m     14\u001b[0m \u001b[0mprint\u001b[0m\u001b[1;33m(\u001b[0m\u001b[0mtime\u001b[0m\u001b[1;33m.\u001b[0m\u001b[0mtime\u001b[0m\u001b[1;33m(\u001b[0m\u001b[1;33m)\u001b[0m\u001b[1;33m-\u001b[0m\u001b[0mstart\u001b[0m\u001b[1;33m)\u001b[0m\u001b[1;33m\u001b[0m\u001b[0m\n",
      "\u001b[1;32m~\\Anaconda3\\lib\\site-packages\\mxnet\\module\\base_module.py\u001b[0m in \u001b[0;36mfit\u001b[1;34m(self, train_data, eval_data, eval_metric, epoch_end_callback, batch_end_callback, kvstore, optimizer, optimizer_params, eval_end_callback, eval_batch_end_callback, initializer, arg_params, aux_params, allow_missing, force_rebind, force_init, begin_epoch, num_epoch, validation_metric, monitor)\u001b[0m\n\u001b[0;32m    458\u001b[0m \u001b[1;33m\u001b[0m\u001b[0m\n\u001b[0;32m    459\u001b[0m         self.bind(data_shapes=train_data.provide_data, label_shapes=train_data.provide_label,\n\u001b[1;32m--> 460\u001b[1;33m                   for_training=True, force_rebind=force_rebind)\n\u001b[0m\u001b[0;32m    461\u001b[0m         \u001b[1;32mif\u001b[0m \u001b[0mmonitor\u001b[0m \u001b[1;32mis\u001b[0m \u001b[1;32mnot\u001b[0m \u001b[1;32mNone\u001b[0m\u001b[1;33m:\u001b[0m\u001b[1;33m\u001b[0m\u001b[0m\n\u001b[0;32m    462\u001b[0m             \u001b[0mself\u001b[0m\u001b[1;33m.\u001b[0m\u001b[0minstall_monitor\u001b[0m\u001b[1;33m(\u001b[0m\u001b[0mmonitor\u001b[0m\u001b[1;33m)\u001b[0m\u001b[1;33m\u001b[0m\u001b[0m\n",
      "\u001b[1;32m~\\Anaconda3\\lib\\site-packages\\mxnet\\module\\module.py\u001b[0m in \u001b[0;36mbind\u001b[1;34m(self, data_shapes, label_shapes, for_training, inputs_need_grad, force_rebind, shared_module, grad_req)\u001b[0m\n\u001b[0;32m    426\u001b[0m                                                      \u001b[0mfixed_param_names\u001b[0m\u001b[1;33m=\u001b[0m\u001b[0mself\u001b[0m\u001b[1;33m.\u001b[0m\u001b[0m_fixed_param_names\u001b[0m\u001b[1;33m,\u001b[0m\u001b[1;33m\u001b[0m\u001b[0m\n\u001b[0;32m    427\u001b[0m                                                      \u001b[0mgrad_req\u001b[0m\u001b[1;33m=\u001b[0m\u001b[0mgrad_req\u001b[0m\u001b[1;33m,\u001b[0m \u001b[0mgroup2ctxs\u001b[0m\u001b[1;33m=\u001b[0m\u001b[0mself\u001b[0m\u001b[1;33m.\u001b[0m\u001b[0m_group2ctxs\u001b[0m\u001b[1;33m,\u001b[0m\u001b[1;33m\u001b[0m\u001b[0m\n\u001b[1;32m--> 428\u001b[1;33m                                                      state_names=self._state_names)\n\u001b[0m\u001b[0;32m    429\u001b[0m         \u001b[0mself\u001b[0m\u001b[1;33m.\u001b[0m\u001b[0m_total_exec_bytes\u001b[0m \u001b[1;33m=\u001b[0m \u001b[0mself\u001b[0m\u001b[1;33m.\u001b[0m\u001b[0m_exec_group\u001b[0m\u001b[1;33m.\u001b[0m\u001b[0m_total_exec_bytes\u001b[0m\u001b[1;33m\u001b[0m\u001b[0m\n\u001b[0;32m    430\u001b[0m         \u001b[1;32mif\u001b[0m \u001b[0mshared_module\u001b[0m \u001b[1;32mis\u001b[0m \u001b[1;32mnot\u001b[0m \u001b[1;32mNone\u001b[0m\u001b[1;33m:\u001b[0m\u001b[1;33m\u001b[0m\u001b[0m\n",
      "\u001b[1;32m~\\Anaconda3\\lib\\site-packages\\mxnet\\module\\executor_group.py\u001b[0m in \u001b[0;36m__init__\u001b[1;34m(self, symbol, contexts, workload, data_shapes, label_shapes, param_names, for_training, inputs_need_grad, shared_group, logger, fixed_param_names, grad_req, state_names, group2ctxs)\u001b[0m\n\u001b[0;32m    235\u001b[0m         \u001b[0mself\u001b[0m\u001b[1;33m.\u001b[0m\u001b[0mnum_outputs\u001b[0m \u001b[1;33m=\u001b[0m \u001b[0mlen\u001b[0m\u001b[1;33m(\u001b[0m\u001b[0mself\u001b[0m\u001b[1;33m.\u001b[0m\u001b[0msymbol\u001b[0m\u001b[1;33m.\u001b[0m\u001b[0mlist_outputs\u001b[0m\u001b[1;33m(\u001b[0m\u001b[1;33m)\u001b[0m\u001b[1;33m)\u001b[0m\u001b[1;33m\u001b[0m\u001b[0m\n\u001b[0;32m    236\u001b[0m \u001b[1;33m\u001b[0m\u001b[0m\n\u001b[1;32m--> 237\u001b[1;33m         \u001b[0mself\u001b[0m\u001b[1;33m.\u001b[0m\u001b[0mbind_exec\u001b[0m\u001b[1;33m(\u001b[0m\u001b[0mdata_shapes\u001b[0m\u001b[1;33m,\u001b[0m \u001b[0mlabel_shapes\u001b[0m\u001b[1;33m,\u001b[0m \u001b[0mshared_group\u001b[0m\u001b[1;33m)\u001b[0m\u001b[1;33m\u001b[0m\u001b[0m\n\u001b[0m\u001b[0;32m    238\u001b[0m \u001b[1;33m\u001b[0m\u001b[0m\n\u001b[0;32m    239\u001b[0m     \u001b[1;32mdef\u001b[0m \u001b[0mdecide_slices\u001b[0m\u001b[1;33m(\u001b[0m\u001b[0mself\u001b[0m\u001b[1;33m,\u001b[0m \u001b[0mdata_shapes\u001b[0m\u001b[1;33m)\u001b[0m\u001b[1;33m:\u001b[0m\u001b[1;33m\u001b[0m\u001b[0m\n",
      "\u001b[1;32m~\\Anaconda3\\lib\\site-packages\\mxnet\\module\\executor_group.py\u001b[0m in \u001b[0;36mbind_exec\u001b[1;34m(self, data_shapes, label_shapes, shared_group, reshape)\u001b[0m\n\u001b[0;32m    331\u001b[0m             \u001b[1;32melse\u001b[0m\u001b[1;33m:\u001b[0m\u001b[1;33m\u001b[0m\u001b[0m\n\u001b[0;32m    332\u001b[0m                 self.execs.append(self._bind_ith_exec(i, data_shapes_i, label_shapes_i,\n\u001b[1;32m--> 333\u001b[1;33m                                                       shared_group))\n\u001b[0m\u001b[0;32m    334\u001b[0m \u001b[1;33m\u001b[0m\u001b[0m\n\u001b[0;32m    335\u001b[0m         \u001b[0mself\u001b[0m\u001b[1;33m.\u001b[0m\u001b[0mdata_shapes\u001b[0m \u001b[1;33m=\u001b[0m \u001b[0mdata_shapes\u001b[0m\u001b[1;33m\u001b[0m\u001b[0m\n",
      "\u001b[1;32m~\\Anaconda3\\lib\\site-packages\\mxnet\\module\\executor_group.py\u001b[0m in \u001b[0;36m_bind_ith_exec\u001b[1;34m(self, i, data_shapes, label_shapes, shared_group)\u001b[0m\n\u001b[0;32m    609\u001b[0m                                            \u001b[0mtype_dict\u001b[0m\u001b[1;33m=\u001b[0m\u001b[0minput_types\u001b[0m\u001b[1;33m,\u001b[0m \u001b[0mshared_arg_names\u001b[0m\u001b[1;33m=\u001b[0m\u001b[0mself\u001b[0m\u001b[1;33m.\u001b[0m\u001b[0mparam_names\u001b[0m\u001b[1;33m,\u001b[0m\u001b[1;33m\u001b[0m\u001b[0m\n\u001b[0;32m    610\u001b[0m                                            \u001b[0mshared_exec\u001b[0m\u001b[1;33m=\u001b[0m\u001b[0mshared_exec\u001b[0m\u001b[1;33m,\u001b[0m \u001b[0mgroup2ctx\u001b[0m\u001b[1;33m=\u001b[0m\u001b[0mgroup2ctx\u001b[0m\u001b[1;33m,\u001b[0m\u001b[1;33m\u001b[0m\u001b[0m\n\u001b[1;32m--> 611\u001b[1;33m                                            shared_buffer=shared_data_arrays, **input_shapes)\n\u001b[0m\u001b[0;32m    612\u001b[0m         \u001b[0mself\u001b[0m\u001b[1;33m.\u001b[0m\u001b[0m_total_exec_bytes\u001b[0m \u001b[1;33m+=\u001b[0m \u001b[0mint\u001b[0m\u001b[1;33m(\u001b[0m\u001b[0mexecutor\u001b[0m\u001b[1;33m.\u001b[0m\u001b[0mdebug_str\u001b[0m\u001b[1;33m(\u001b[0m\u001b[1;33m)\u001b[0m\u001b[1;33m.\u001b[0m\u001b[0msplit\u001b[0m\u001b[1;33m(\u001b[0m\u001b[1;34m'\\n'\u001b[0m\u001b[1;33m)\u001b[0m\u001b[1;33m[\u001b[0m\u001b[1;33m-\u001b[0m\u001b[1;36m3\u001b[0m\u001b[1;33m]\u001b[0m\u001b[1;33m.\u001b[0m\u001b[0msplit\u001b[0m\u001b[1;33m(\u001b[0m\u001b[1;33m)\u001b[0m\u001b[1;33m[\u001b[0m\u001b[1;36m1\u001b[0m\u001b[1;33m]\u001b[0m\u001b[1;33m)\u001b[0m\u001b[1;33m\u001b[0m\u001b[0m\n\u001b[0;32m    613\u001b[0m         \u001b[1;32mreturn\u001b[0m \u001b[0mexecutor\u001b[0m\u001b[1;33m\u001b[0m\u001b[0m\n",
      "\u001b[1;32m~\\Anaconda3\\lib\\site-packages\\mxnet\\symbol\\symbol.py\u001b[0m in \u001b[0;36msimple_bind\u001b[1;34m(self, ctx, grad_req, type_dict, stype_dict, group2ctx, shared_arg_names, shared_exec, shared_buffer, **kwargs)\u001b[0m\n\u001b[0;32m   1492\u001b[0m                 \u001b[0merror_msg\u001b[0m \u001b[1;33m+=\u001b[0m \u001b[1;34m\"%s: %s\\n\"\u001b[0m \u001b[1;33m%\u001b[0m \u001b[1;33m(\u001b[0m\u001b[0mk\u001b[0m\u001b[1;33m,\u001b[0m \u001b[0mv\u001b[0m\u001b[1;33m)\u001b[0m\u001b[1;33m\u001b[0m\u001b[0m\n\u001b[0;32m   1493\u001b[0m             \u001b[0merror_msg\u001b[0m \u001b[1;33m+=\u001b[0m \u001b[1;34m\"%s\"\u001b[0m \u001b[1;33m%\u001b[0m \u001b[0me\u001b[0m\u001b[1;33m\u001b[0m\u001b[0m\n\u001b[1;32m-> 1494\u001b[1;33m             \u001b[1;32mraise\u001b[0m \u001b[0mRuntimeError\u001b[0m\u001b[1;33m(\u001b[0m\u001b[0merror_msg\u001b[0m\u001b[1;33m)\u001b[0m\u001b[1;33m\u001b[0m\u001b[0m\n\u001b[0m\u001b[0;32m   1495\u001b[0m \u001b[1;33m\u001b[0m\u001b[0m\n\u001b[0;32m   1496\u001b[0m         \u001b[1;31m# update shared_buffer\u001b[0m\u001b[1;33m\u001b[0m\u001b[1;33m\u001b[0m\u001b[0m\n",
      "\u001b[1;31mRuntimeError\u001b[0m: simple_bind error. Arguments:\ndata: (128, 1, 28, 28)\nsoftmax_label: (128,)\n[10:59:43] C:\\projects\\mxnet-distro-win\\mxnet-build\\src\\storage\\storage.cc:118: Compile with USE_CUDA=1 to enable GPU usage"
     ]
    }
   ],
   "source": [
    "import time\n",
    "# create a trainable module on GPU 0 -> then change mx.cpu to mx.gpu\n",
    "lenet_model = mx.mod.Module(symbol=lenet, context=mx.cpu())\n",
    "# train with the same\n",
    "start=time.time()\n",
    "lenet_model.fit(train_iter,\n",
    "                eval_data=val_iter,\n",
    "                optimizer='Adam',\n",
    "                #optimizer_params={'learning_rate':0.01},\n",
    "                eval_metric='acc',\n",
    "                batch_end_callback = mx.callback.Speedometer(batch_size, 100),\n",
    "                num_epoch=1)\n",
    "print('sec per epoch:')\n",
    "print(time.time()-start)\n",
    "lenet_model.fit(train_iter,\n",
    "                eval_data=val_iter,\n",
    "                optimizer='Adam',\n",
    "                #optimizer_params={'learning_rate':0.01},\n",
    "                eval_metric='acc',\n",
    "                batch_end_callback = mx.callback.Speedometer(batch_size, 100),\n",
    "                num_epoch=epochs)"
   ]
  },
  {
   "cell_type": "markdown",
   "metadata": {},
   "source": [
    "### Prediction\n",
    "\n",
    "Finally, we'll use the trained LeNet model to generate predictions for the test data."
   ]
  },
  {
   "cell_type": "code",
   "execution_count": null,
   "metadata": {
    "collapsed": true
   },
   "outputs": [],
   "source": [
    "test_iter = mx.io.NDArrayIter(mnist['test_data'], mnist['test_label'], batch_size)\n",
    "start = time.time()\n",
    "prob = lenet_model.predict(test_iter)\n",
    "duration = time.time() - start\n",
    "print(len(prob)/duration)\n",
    "print('images per second')"
   ]
  },
  {
   "cell_type": "code",
   "execution_count": null,
   "metadata": {
    "collapsed": true
   },
   "outputs": [],
   "source": [
    "# source: https://mxnet.incubator.apache.org/api/python/model.html#save-the-model\n",
    "# save and load model test\n",
    "prefix = 'mymodel'\n",
    "iteration = 100\n",
    "lenet_model.save_checkpoint(prefix, iteration)\n",
    "#lenet_model.save_params('mxnet_model')\n",
    "# load model back\n",
    "model_loaded = mx.model.FeedForward.load(prefix, iteration)"
   ]
  },
  {
   "cell_type": "code",
   "execution_count": null,
   "metadata": {
    "collapsed": true
   },
   "outputs": [],
   "source": [
    "\n",
    "test_iter = mx.io.NDArrayIter(mnist['test_data'], mnist['test_label'], batch_size)\n",
    "# predict accuracy for lenet\n",
    "acc = mx.metric.Accuracy()\n",
    "lenet_model.score(test_iter, acc)\n",
    "print(acc)\n",
    "assert acc.get()[1] > 0.98"
   ]
  },
  {
   "cell_type": "markdown",
   "metadata": {},
   "source": [
    "If all went well, we should see a higher accuracy metric for predictions made using LeNet. With CNN we should be able to correctly predict around 98% of all test images.\n",
    "\n",
    "## Summary\n",
    "\n",
    "In this tutorial, we have learned how to use MXNet to solve a standard computer vision problem: classifying images of hand written digits. You have seen how to quickly and easily build, train and evaluate models such as MLP and CNN with MXNet.\n",
    "\n",
    "<!-- INSERT SOURCE DOWNLOAD BUTTONS -->\n",
    "\n"
   ]
  }
 ],
 "metadata": {
  "display_name": "",
  "kernelspec": {
   "display_name": "Python 3",
   "language": "python",
   "name": "python3"
  },
  "language_info": {
   "codemirror_mode": {
    "name": "ipython",
    "version": 3
   },
   "file_extension": ".py",
   "mimetype": "text/x-python",
   "name": "python",
   "nbconvert_exporter": "python",
   "pygments_lexer": "ipython3",
   "version": "3.6.3"
  },
  "name": ""
 },
 "nbformat": 4,
 "nbformat_minor": 2
}
